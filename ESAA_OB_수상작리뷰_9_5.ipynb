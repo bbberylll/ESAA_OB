{
  "nbformat": 4,
  "nbformat_minor": 0,
  "metadata": {
    "colab": {
      "provenance": [],
      "authorship_tag": "ABX9TyNsg18lslyUMFTrWYxqEVOM",
      "include_colab_link": true
    },
    "kernelspec": {
      "name": "python3",
      "display_name": "Python 3"
    },
    "language_info": {
      "name": "python"
    }
  },
  "cells": [
    {
      "cell_type": "markdown",
      "metadata": {
        "id": "view-in-github",
        "colab_type": "text"
      },
      "source": [
        "<a href=\"https://colab.research.google.com/github/bbberylll/ESAA_OB/blob/main/ESAA_OB_%EC%88%98%EC%83%81%EC%9E%91%EB%A6%AC%EB%B7%B0_9_5.ipynb\" target=\"_parent\"><img src=\"https://colab.research.google.com/assets/colab-badge.svg\" alt=\"Open In Colab\"/></a>"
      ]
    },
    {
      "cell_type": "markdown",
      "source": [
        "# [Recruit Restaurant Visitor Forecasting](https://www.kaggle.com/competitions/recruit-restaurant-visitor-forecasting?utm_source=chatgpt.com)\n",
        "\n",
        "\n",
        "## 데이터셋\n",
        "air_visit_data.csv: 매장별 일일 방문자 수 (타깃)\n",
        "air_store_info.csv, hpg_store_info.csv: 매장 정보 (위치, 장르 등)\n",
        "date_info.csv: 공휴일 및 요일 플래그\n",
        "air_reserve.csv, hpg_reserve.csv: 예약 데이터\n",
        "여러 테이블을 매장 단위로 병합 필요\n",
        "\n",
        "평가지표: RMSLE (Root Mean Squared Logarithmic Error)\n",
        "\n",
        "## 솔루션 공통점\n",
        "### 공통 전략\n",
        "\n",
        "1. 특성 공학\n",
        "* 요일, 주차, 월, 공휴일 여부\n",
        "* 최근 방문자 수 기반 lag/rolling 평균 (7일, 14일, 30일 등)\n",
        "* 예약 데이터(리드타임, 예약자 수 합/평균)\n",
        "* 매장/지역별 평균 방문자 수\n",
        "* holiday effect (공휴일 전후 변화율)\n",
        "\n",
        "2. 데이터 병합\n",
        "* air_store_id ↔ hpg_store_id 매핑\n",
        "* 예약 데이터는 방문일 기준으로 집계\n",
        "\n",
        "3. 모델링\n",
        "* Gradient Boosting (XGBoost, LightGBM, CatBoost)\n",
        "* 앙상블(평균/가중 평균)\n",
        "\n",
        "\n",
        "## 수상작 리뷰\n",
        "### 특징 -1\n",
        "  1. 매장*요일 단위 평균값\n",
        "  2. 최근 3/7/14일 rolling mean\n",
        "  3. 공휴일 효과 반영\n",
        "\n",
        "모델: XGBoost + LightGBM 앙상블\n",
        "검증: 시계열 K-Fold (train=과거, valid=미래)\n",
        "\n",
        "### 특징 -2\n",
        "  1. 예약 데이터 집중 활용 (리드타임, 예약자 수)\n",
        "  2. Feature selection → 불필요 변수 제거\n",
        "  3. 모델: XGBoost 단독, 튜닝 최적화\n",
        "\n",
        "### 특징 -3\n",
        "  1. 위도/경도 기반 지역 클러스터링\n",
        "  2. 범주형 변수는 CatBoost로 처리\n",
        "  3. 모델: CatBoost + 부스팅 앙상블\n",
        "\n",
        "\n",
        "EDA\n",
        "* 방문자 수 분포 확인 (로그 변환 필요)\n",
        "* 요일/공휴일 방문 패턴 분석\n",
        "\n",
        "전처리\n",
        "* 여러 데이터셋을 매장/날짜 기준 병합\n",
        "* 예약 데이터 집계 (방문일 기준)\n",
        "* holiday flag, weekday, month 생성\n",
        "\n",
        "특성 공학\n",
        "* lag features (7/14/30일 평균)\n",
        "* rolling stats (평균, 표준편차)\n",
        "* store-level mean/median visitors\n",
        "* geo-clustering (지역성 반영)\n",
        "\n",
        "모델링\n",
        "* LightGBM, XGBoost, CatBoost 훈련\n",
        "* 시계열 CV (expanding window)\n",
        "* 앙상블(평균/가중 평균)\n",
        "\n",
        "평가\n",
        "* RMSLE 스코어 계산\n",
        "* Feature importance 시각화\n",
        "\n",
        "## 배울 점\n",
        "1. 데이터 병합 능력: 다중 소스(csv)를 하나의 학습 테이블로 만드는 과정이 중요\n",
        "2. 시계열 특성 공학: lag/rolling mean은 필수적\n",
        "3. 외부 변수 활용: 예약/공휴일 데이터가 성능 향상 핵심\n",
        "4. Boosting의 강력함: 시계열 예측에서도 tabular boosting이 딥러닝보다 유리"
      ],
      "metadata": {
        "id": "NhlNg2BEP5os"
      }
    }
  ]
}