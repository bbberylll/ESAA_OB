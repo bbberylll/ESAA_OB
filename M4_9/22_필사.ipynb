{
  "nbformat": 4,
  "nbformat_minor": 0,
  "metadata": {
    "colab": {
      "provenance": [],
      "authorship_tag": "ABX9TyNLv6VABjIDGbW3SvCSK7uT",
      "include_colab_link": true
    },
    "kernelspec": {
      "name": "python3",
      "display_name": "Python 3"
    },
    "language_info": {
      "name": "python"
    }
  },
  "cells": [
    {
      "cell_type": "markdown",
      "metadata": {
        "id": "view-in-github",
        "colab_type": "text"
      },
      "source": [
        "<a href=\"https://colab.research.google.com/github/bbberylll/ESAA_OB/blob/main/M4_9/22_%ED%95%84%EC%82%AC.ipynb\" target=\"_parent\"><img src=\"https://colab.research.google.com/assets/colab-badge.svg\" alt=\"Open In Colab\"/></a>"
      ]
    },
    {
      "cell_type": "markdown",
      "source": [
        "## 가우시안 혼합 모델 (GMM):\n",
        "\n",
        "### 개념 및 특징\n",
        ": 가우시안 혼합 모델(Gaussian Mixture Model, GMM)은 데이터가 여러 개의 가우시안 분포(종 모양의 정규 분포)가 혼합되어 생성되었다고 가정하는 확률 모델  \n",
        "각 가우시안 분포는 하나의 클러스터(보통 타원형 모양)를 나타냄\n",
        "\n",
        "GMM의 목표는 주어진 데이터를 기반으로 각 가우시안 분포의 파라미터(평균, 공분산)와 각 클러스터에 속할 확률을 나타내는 가중치를 추정하는 것.\n",
        "\n",
        "### 사이킷런(Scikit-learn)에서 GMM 사용하기\n",
        "사이킷런의 GaussianMixture 클래스를 사용해 GMM을 구현할 수 있습니다. 사용 시에는 클러스터의 개수 k를 사전에 지정해야 함\n",
        "\n",
        "* 주요 파라미터:\n",
        "    * n_components: 클러스터의 개수 k를 지정\n",
        "    * n_init: 파라미터 초기화를 시도할 횟수를 지정\n",
        "\n",
        "\n",
        "* 학습 과정:\n",
        "    1. GMM은 기댓값-최대화(EM) 알고리즘을 사용해 파라미터를 학습\n",
        "    2. 랜덤 초기화 후, **기댓값 단계(E-step)**와 **최대화 단계(M-step)**를 반복하며 최적의 파라미터를 찾아 수렴\n",
        "\n",
        "\n",
        "* 소프트 클러스터링: K-평균과 달리, GMM은 각 데이터 포인트가 특정 클러스터에 속할 확률(책임)을 계산\n",
        "\n",
        "### GMM의 주요 기능 및 활용\n",
        "GMM은 단순히 데이터를 군집화하는 것 외에도 다양한 기능을 제공\n",
        "\n",
        "* 파라미터 확인:\n",
        "    * gm.weights_: 각 클러스터의 가중치(비율)를 나타냄\n",
        "    * gm.means_: 각 클러스터의 평균(중심) 행렬\n",
        "    * gm.covariances_: 각 클러스터의 공분산(분산 및 상관관계) 행렬\n",
        "\n",
        "\n",
        "* 예측 및 샘플링:\n",
        "    * 하드 군집: predict() 메서드로 각 샘플이 가장 속할 확률이 높은 클러스터를 할당\n",
        "    * 소프트 군집: predict_proba() 메서드로 각 샘플이 각 클러스터에 속할 확률을 예측\n",
        "    * 샘플 생성: GMM은 생성 모델이므로, sample(n) 메서드를 사용해 새로운 데이터 포인트를 생성\n",
        "    * 밀도 평가: score_samples(X) 메서드로 주어진 데이터의 확률 밀도 함수의 로그 값을 계산. 값이 높을수록 밀도가 높음\n",
        "\n",
        "* 모델 제약:\n",
        "GMM의 학습은 클러스터가 많거나 샘플이 적을 때 불안정할 수 있음. 이때 covariance_type 매개변수를 조정해 클러스터의 모양과 방향에 제약을 줄 수 있음\n",
        "    * covariance_type:\n",
        "      * 'spherical': 모든 클러스터가 원형(구형)\n",
        "      * 'diag': 타원형이지만 축에 평행\n",
        "      * 'tied': 모든 클러스터가 동일한 타원 모양, 크기, 방향을 가짐\n",
        "      * 'full': 제약이 없는 완전한 형태의 타원형 (기본값)\n",
        "\n",
        "** **\n",
        "\n",
        "## 9.2.1 가우시안 혼합 모델을 이용한 이상치 탐지\n",
        "가우시안 혼합 모델(GMM)은 **밀도가 낮은 지역에 있는 샘플을 이상치(outlier)**로 간주하여 이상치를 탐지함.  \n",
        "사용자는 특정 **밀도 임곗값(threshold)**을 설정하여 이보다 밀도가 낮은 모든 샘플을 이상치로 식별\n",
        "\n",
        "특이치 탐지(Novelty Detection): 훈련 데이터셋이 이상치에 의해 오염되지 않았다고 가정하고, 새로운 샘플이 정상 데이터와 얼마나 다른지 탐지하는 기법\n",
        "\n",
        "** **\n",
        "\n",
        "## 9.2.2 클러스터 개수 선택하기: AIC와 BIC\n",
        "GMM에서 최적의 클러스터 개수를 결정할 때, K-평균 군집에서 사용되는 이너셔나 실루엣 점수 대신 AIC(Akaike Information Criterion) 또는 **BIC(Bayesian Information Criterion)**와 같은 정보 기준을 사용\n",
        "\n",
        "AIC와 BIC: 모델의 복잡도(클러스터 수)에 패널티를 부여하고, 데이터에 대한 모델의 적합도를 평가하는 지표임. 이 값들을 최소화하는 모델을 선택함\n",
        "\n",
        "BIC는 AIC보다 더 강력하게 복잡한 모델에 패널티를 부여하므로, 더 간단한 모델을 선택하는 경향이 있음\n",
        "\n",
        "가능도(Likelihood): 주어진 데이터가 특정 모델 파라미터에서 얼마나 그럴듯하게 나타나는지를 설명하는 함수. GMM은 이 가능도 함수를 최대화하는 파라미터를 찾아 학습하며, 이 최댓값을 AIC, BIC 계산에 사용\n",
        "\n",
        "** **\n",
        "\n",
        "## 9.2.3 베이즈 가우시안 혼합 모델 (BayesianGaussianMixture)\n",
        "사이킷런의 BayesianGaussianMixture 클래스는 최적의 클러스터 개수를 수동으로 지정할 필요 없이 불필요한 클러스터의 가중치를 0으로 만들어 자동적으로 제거해준다. 따라서 예상되는 최적의 클러스터 수보다 큰 값을 n_components에 지정해도 문제가 없음\n",
        "\n",
        "변분 추론(Variational Inference): 베이즈 모델에서 사후 확률을 직접 계산하기 어려울 때 사용되는 방법. 사후 확률과 가장 유사한(KL 발산 최소화) 근사 분포를 찾아줌\n",
        "\n",
        "ELBO(Evidence Lower Bound): 변분 추론에서 최대화해야 할 값으로, KL 발산을 최소화하는 것과 동일한 효과를 가져옴\n",
        "\n",
        "한계: GMM은 타원형 클러스터에 잘 작동하지만, 다른 형태의 클러스터에는 적합하지 않을 수 있음\n",
        "** **\n",
        "## 9.2.4 기타 이상치 탐지 및 특이치 탐지 알고리즘\n",
        "\n",
        "1. PCA (Principal Component Analysis): 데이터의 주성분(분산이 가장 큰 방향)을 찾아, 이 방향에서 벗어나는 데이터를 이상치로 간주\n",
        "\n",
        "2. Fast-MCD (Minimum Covariance Determinant): 단일 가우시안 분포를 가정하고 타원형 이상치를 효과적으로 탐지\n",
        "\n",
        "3. 아이솔레이션 포레스트(Isolation Forest): 데이터를 무작위로 분할하여 이상치를 '고립'시키는 데 효율적. 고차원 데이터에 특히 유용\n",
        "\n",
        "4. LOC (Local Outlier Factor): 특정 샘플의 주변 밀도와 이웃의 주변 밀도를 비교하여 이상치를 탐지\n",
        "\n",
        "5. One-class SVM (Support Vector Machine): 주로 특이치 탐지에 사용되며, 정상 데이터 샘플을 둘러싸는 초평면(hyperplane)을 찾아 경계 밖에 있는 샘플을 이상치로 분류\n",
        "\n",
        "\n"
      ],
      "metadata": {
        "id": "z6b53f8hZa7u"
      }
    },
    {
      "cell_type": "code",
      "execution_count": 1,
      "metadata": {
        "id": "CdwdOqBUZaZQ"
      },
      "outputs": [],
      "source": [
        "from sklearn.datasets import make_moons\n",
        "X, y = make_moons(n_samples=1000,noise=0.05)"
      ]
    },
    {
      "cell_type": "code",
      "source": [
        "from sklearn.mixture import GaussianMixture\n",
        "\n",
        "gm = GaussianMixture(n_components=3, n_init=10)\n",
        "gm.fit(X)"
      ],
      "metadata": {
        "colab": {
          "base_uri": "https://localhost:8080/",
          "height": 80
        },
        "id": "vDDUtBDua9dk",
        "outputId": "cdbf15b4-0941-4fe6-c200-bdc38977b586"
      },
      "execution_count": 2,
      "outputs": [
        {
          "output_type": "execute_result",
          "data": {
            "text/plain": [
              "GaussianMixture(n_components=3, n_init=10)"
            ],
            "text/html": [
              "<style>#sk-container-id-1 {\n",
              "  /* Definition of color scheme common for light and dark mode */\n",
              "  --sklearn-color-text: #000;\n",
              "  --sklearn-color-text-muted: #666;\n",
              "  --sklearn-color-line: gray;\n",
              "  /* Definition of color scheme for unfitted estimators */\n",
              "  --sklearn-color-unfitted-level-0: #fff5e6;\n",
              "  --sklearn-color-unfitted-level-1: #f6e4d2;\n",
              "  --sklearn-color-unfitted-level-2: #ffe0b3;\n",
              "  --sklearn-color-unfitted-level-3: chocolate;\n",
              "  /* Definition of color scheme for fitted estimators */\n",
              "  --sklearn-color-fitted-level-0: #f0f8ff;\n",
              "  --sklearn-color-fitted-level-1: #d4ebff;\n",
              "  --sklearn-color-fitted-level-2: #b3dbfd;\n",
              "  --sklearn-color-fitted-level-3: cornflowerblue;\n",
              "\n",
              "  /* Specific color for light theme */\n",
              "  --sklearn-color-text-on-default-background: var(--sg-text-color, var(--theme-code-foreground, var(--jp-content-font-color1, black)));\n",
              "  --sklearn-color-background: var(--sg-background-color, var(--theme-background, var(--jp-layout-color0, white)));\n",
              "  --sklearn-color-border-box: var(--sg-text-color, var(--theme-code-foreground, var(--jp-content-font-color1, black)));\n",
              "  --sklearn-color-icon: #696969;\n",
              "\n",
              "  @media (prefers-color-scheme: dark) {\n",
              "    /* Redefinition of color scheme for dark theme */\n",
              "    --sklearn-color-text-on-default-background: var(--sg-text-color, var(--theme-code-foreground, var(--jp-content-font-color1, white)));\n",
              "    --sklearn-color-background: var(--sg-background-color, var(--theme-background, var(--jp-layout-color0, #111)));\n",
              "    --sklearn-color-border-box: var(--sg-text-color, var(--theme-code-foreground, var(--jp-content-font-color1, white)));\n",
              "    --sklearn-color-icon: #878787;\n",
              "  }\n",
              "}\n",
              "\n",
              "#sk-container-id-1 {\n",
              "  color: var(--sklearn-color-text);\n",
              "}\n",
              "\n",
              "#sk-container-id-1 pre {\n",
              "  padding: 0;\n",
              "}\n",
              "\n",
              "#sk-container-id-1 input.sk-hidden--visually {\n",
              "  border: 0;\n",
              "  clip: rect(1px 1px 1px 1px);\n",
              "  clip: rect(1px, 1px, 1px, 1px);\n",
              "  height: 1px;\n",
              "  margin: -1px;\n",
              "  overflow: hidden;\n",
              "  padding: 0;\n",
              "  position: absolute;\n",
              "  width: 1px;\n",
              "}\n",
              "\n",
              "#sk-container-id-1 div.sk-dashed-wrapped {\n",
              "  border: 1px dashed var(--sklearn-color-line);\n",
              "  margin: 0 0.4em 0.5em 0.4em;\n",
              "  box-sizing: border-box;\n",
              "  padding-bottom: 0.4em;\n",
              "  background-color: var(--sklearn-color-background);\n",
              "}\n",
              "\n",
              "#sk-container-id-1 div.sk-container {\n",
              "  /* jupyter's `normalize.less` sets `[hidden] { display: none; }`\n",
              "     but bootstrap.min.css set `[hidden] { display: none !important; }`\n",
              "     so we also need the `!important` here to be able to override the\n",
              "     default hidden behavior on the sphinx rendered scikit-learn.org.\n",
              "     See: https://github.com/scikit-learn/scikit-learn/issues/21755 */\n",
              "  display: inline-block !important;\n",
              "  position: relative;\n",
              "}\n",
              "\n",
              "#sk-container-id-1 div.sk-text-repr-fallback {\n",
              "  display: none;\n",
              "}\n",
              "\n",
              "div.sk-parallel-item,\n",
              "div.sk-serial,\n",
              "div.sk-item {\n",
              "  /* draw centered vertical line to link estimators */\n",
              "  background-image: linear-gradient(var(--sklearn-color-text-on-default-background), var(--sklearn-color-text-on-default-background));\n",
              "  background-size: 2px 100%;\n",
              "  background-repeat: no-repeat;\n",
              "  background-position: center center;\n",
              "}\n",
              "\n",
              "/* Parallel-specific style estimator block */\n",
              "\n",
              "#sk-container-id-1 div.sk-parallel-item::after {\n",
              "  content: \"\";\n",
              "  width: 100%;\n",
              "  border-bottom: 2px solid var(--sklearn-color-text-on-default-background);\n",
              "  flex-grow: 1;\n",
              "}\n",
              "\n",
              "#sk-container-id-1 div.sk-parallel {\n",
              "  display: flex;\n",
              "  align-items: stretch;\n",
              "  justify-content: center;\n",
              "  background-color: var(--sklearn-color-background);\n",
              "  position: relative;\n",
              "}\n",
              "\n",
              "#sk-container-id-1 div.sk-parallel-item {\n",
              "  display: flex;\n",
              "  flex-direction: column;\n",
              "}\n",
              "\n",
              "#sk-container-id-1 div.sk-parallel-item:first-child::after {\n",
              "  align-self: flex-end;\n",
              "  width: 50%;\n",
              "}\n",
              "\n",
              "#sk-container-id-1 div.sk-parallel-item:last-child::after {\n",
              "  align-self: flex-start;\n",
              "  width: 50%;\n",
              "}\n",
              "\n",
              "#sk-container-id-1 div.sk-parallel-item:only-child::after {\n",
              "  width: 0;\n",
              "}\n",
              "\n",
              "/* Serial-specific style estimator block */\n",
              "\n",
              "#sk-container-id-1 div.sk-serial {\n",
              "  display: flex;\n",
              "  flex-direction: column;\n",
              "  align-items: center;\n",
              "  background-color: var(--sklearn-color-background);\n",
              "  padding-right: 1em;\n",
              "  padding-left: 1em;\n",
              "}\n",
              "\n",
              "\n",
              "/* Toggleable style: style used for estimator/Pipeline/ColumnTransformer box that is\n",
              "clickable and can be expanded/collapsed.\n",
              "- Pipeline and ColumnTransformer use this feature and define the default style\n",
              "- Estimators will overwrite some part of the style using the `sk-estimator` class\n",
              "*/\n",
              "\n",
              "/* Pipeline and ColumnTransformer style (default) */\n",
              "\n",
              "#sk-container-id-1 div.sk-toggleable {\n",
              "  /* Default theme specific background. It is overwritten whether we have a\n",
              "  specific estimator or a Pipeline/ColumnTransformer */\n",
              "  background-color: var(--sklearn-color-background);\n",
              "}\n",
              "\n",
              "/* Toggleable label */\n",
              "#sk-container-id-1 label.sk-toggleable__label {\n",
              "  cursor: pointer;\n",
              "  display: flex;\n",
              "  width: 100%;\n",
              "  margin-bottom: 0;\n",
              "  padding: 0.5em;\n",
              "  box-sizing: border-box;\n",
              "  text-align: center;\n",
              "  align-items: start;\n",
              "  justify-content: space-between;\n",
              "  gap: 0.5em;\n",
              "}\n",
              "\n",
              "#sk-container-id-1 label.sk-toggleable__label .caption {\n",
              "  font-size: 0.6rem;\n",
              "  font-weight: lighter;\n",
              "  color: var(--sklearn-color-text-muted);\n",
              "}\n",
              "\n",
              "#sk-container-id-1 label.sk-toggleable__label-arrow:before {\n",
              "  /* Arrow on the left of the label */\n",
              "  content: \"▸\";\n",
              "  float: left;\n",
              "  margin-right: 0.25em;\n",
              "  color: var(--sklearn-color-icon);\n",
              "}\n",
              "\n",
              "#sk-container-id-1 label.sk-toggleable__label-arrow:hover:before {\n",
              "  color: var(--sklearn-color-text);\n",
              "}\n",
              "\n",
              "/* Toggleable content - dropdown */\n",
              "\n",
              "#sk-container-id-1 div.sk-toggleable__content {\n",
              "  max-height: 0;\n",
              "  max-width: 0;\n",
              "  overflow: hidden;\n",
              "  text-align: left;\n",
              "  /* unfitted */\n",
              "  background-color: var(--sklearn-color-unfitted-level-0);\n",
              "}\n",
              "\n",
              "#sk-container-id-1 div.sk-toggleable__content.fitted {\n",
              "  /* fitted */\n",
              "  background-color: var(--sklearn-color-fitted-level-0);\n",
              "}\n",
              "\n",
              "#sk-container-id-1 div.sk-toggleable__content pre {\n",
              "  margin: 0.2em;\n",
              "  border-radius: 0.25em;\n",
              "  color: var(--sklearn-color-text);\n",
              "  /* unfitted */\n",
              "  background-color: var(--sklearn-color-unfitted-level-0);\n",
              "}\n",
              "\n",
              "#sk-container-id-1 div.sk-toggleable__content.fitted pre {\n",
              "  /* unfitted */\n",
              "  background-color: var(--sklearn-color-fitted-level-0);\n",
              "}\n",
              "\n",
              "#sk-container-id-1 input.sk-toggleable__control:checked~div.sk-toggleable__content {\n",
              "  /* Expand drop-down */\n",
              "  max-height: 200px;\n",
              "  max-width: 100%;\n",
              "  overflow: auto;\n",
              "}\n",
              "\n",
              "#sk-container-id-1 input.sk-toggleable__control:checked~label.sk-toggleable__label-arrow:before {\n",
              "  content: \"▾\";\n",
              "}\n",
              "\n",
              "/* Pipeline/ColumnTransformer-specific style */\n",
              "\n",
              "#sk-container-id-1 div.sk-label input.sk-toggleable__control:checked~label.sk-toggleable__label {\n",
              "  color: var(--sklearn-color-text);\n",
              "  background-color: var(--sklearn-color-unfitted-level-2);\n",
              "}\n",
              "\n",
              "#sk-container-id-1 div.sk-label.fitted input.sk-toggleable__control:checked~label.sk-toggleable__label {\n",
              "  background-color: var(--sklearn-color-fitted-level-2);\n",
              "}\n",
              "\n",
              "/* Estimator-specific style */\n",
              "\n",
              "/* Colorize estimator box */\n",
              "#sk-container-id-1 div.sk-estimator input.sk-toggleable__control:checked~label.sk-toggleable__label {\n",
              "  /* unfitted */\n",
              "  background-color: var(--sklearn-color-unfitted-level-2);\n",
              "}\n",
              "\n",
              "#sk-container-id-1 div.sk-estimator.fitted input.sk-toggleable__control:checked~label.sk-toggleable__label {\n",
              "  /* fitted */\n",
              "  background-color: var(--sklearn-color-fitted-level-2);\n",
              "}\n",
              "\n",
              "#sk-container-id-1 div.sk-label label.sk-toggleable__label,\n",
              "#sk-container-id-1 div.sk-label label {\n",
              "  /* The background is the default theme color */\n",
              "  color: var(--sklearn-color-text-on-default-background);\n",
              "}\n",
              "\n",
              "/* On hover, darken the color of the background */\n",
              "#sk-container-id-1 div.sk-label:hover label.sk-toggleable__label {\n",
              "  color: var(--sklearn-color-text);\n",
              "  background-color: var(--sklearn-color-unfitted-level-2);\n",
              "}\n",
              "\n",
              "/* Label box, darken color on hover, fitted */\n",
              "#sk-container-id-1 div.sk-label.fitted:hover label.sk-toggleable__label.fitted {\n",
              "  color: var(--sklearn-color-text);\n",
              "  background-color: var(--sklearn-color-fitted-level-2);\n",
              "}\n",
              "\n",
              "/* Estimator label */\n",
              "\n",
              "#sk-container-id-1 div.sk-label label {\n",
              "  font-family: monospace;\n",
              "  font-weight: bold;\n",
              "  display: inline-block;\n",
              "  line-height: 1.2em;\n",
              "}\n",
              "\n",
              "#sk-container-id-1 div.sk-label-container {\n",
              "  text-align: center;\n",
              "}\n",
              "\n",
              "/* Estimator-specific */\n",
              "#sk-container-id-1 div.sk-estimator {\n",
              "  font-family: monospace;\n",
              "  border: 1px dotted var(--sklearn-color-border-box);\n",
              "  border-radius: 0.25em;\n",
              "  box-sizing: border-box;\n",
              "  margin-bottom: 0.5em;\n",
              "  /* unfitted */\n",
              "  background-color: var(--sklearn-color-unfitted-level-0);\n",
              "}\n",
              "\n",
              "#sk-container-id-1 div.sk-estimator.fitted {\n",
              "  /* fitted */\n",
              "  background-color: var(--sklearn-color-fitted-level-0);\n",
              "}\n",
              "\n",
              "/* on hover */\n",
              "#sk-container-id-1 div.sk-estimator:hover {\n",
              "  /* unfitted */\n",
              "  background-color: var(--sklearn-color-unfitted-level-2);\n",
              "}\n",
              "\n",
              "#sk-container-id-1 div.sk-estimator.fitted:hover {\n",
              "  /* fitted */\n",
              "  background-color: var(--sklearn-color-fitted-level-2);\n",
              "}\n",
              "\n",
              "/* Specification for estimator info (e.g. \"i\" and \"?\") */\n",
              "\n",
              "/* Common style for \"i\" and \"?\" */\n",
              "\n",
              ".sk-estimator-doc-link,\n",
              "a:link.sk-estimator-doc-link,\n",
              "a:visited.sk-estimator-doc-link {\n",
              "  float: right;\n",
              "  font-size: smaller;\n",
              "  line-height: 1em;\n",
              "  font-family: monospace;\n",
              "  background-color: var(--sklearn-color-background);\n",
              "  border-radius: 1em;\n",
              "  height: 1em;\n",
              "  width: 1em;\n",
              "  text-decoration: none !important;\n",
              "  margin-left: 0.5em;\n",
              "  text-align: center;\n",
              "  /* unfitted */\n",
              "  border: var(--sklearn-color-unfitted-level-1) 1pt solid;\n",
              "  color: var(--sklearn-color-unfitted-level-1);\n",
              "}\n",
              "\n",
              ".sk-estimator-doc-link.fitted,\n",
              "a:link.sk-estimator-doc-link.fitted,\n",
              "a:visited.sk-estimator-doc-link.fitted {\n",
              "  /* fitted */\n",
              "  border: var(--sklearn-color-fitted-level-1) 1pt solid;\n",
              "  color: var(--sklearn-color-fitted-level-1);\n",
              "}\n",
              "\n",
              "/* On hover */\n",
              "div.sk-estimator:hover .sk-estimator-doc-link:hover,\n",
              ".sk-estimator-doc-link:hover,\n",
              "div.sk-label-container:hover .sk-estimator-doc-link:hover,\n",
              ".sk-estimator-doc-link:hover {\n",
              "  /* unfitted */\n",
              "  background-color: var(--sklearn-color-unfitted-level-3);\n",
              "  color: var(--sklearn-color-background);\n",
              "  text-decoration: none;\n",
              "}\n",
              "\n",
              "div.sk-estimator.fitted:hover .sk-estimator-doc-link.fitted:hover,\n",
              ".sk-estimator-doc-link.fitted:hover,\n",
              "div.sk-label-container:hover .sk-estimator-doc-link.fitted:hover,\n",
              ".sk-estimator-doc-link.fitted:hover {\n",
              "  /* fitted */\n",
              "  background-color: var(--sklearn-color-fitted-level-3);\n",
              "  color: var(--sklearn-color-background);\n",
              "  text-decoration: none;\n",
              "}\n",
              "\n",
              "/* Span, style for the box shown on hovering the info icon */\n",
              ".sk-estimator-doc-link span {\n",
              "  display: none;\n",
              "  z-index: 9999;\n",
              "  position: relative;\n",
              "  font-weight: normal;\n",
              "  right: .2ex;\n",
              "  padding: .5ex;\n",
              "  margin: .5ex;\n",
              "  width: min-content;\n",
              "  min-width: 20ex;\n",
              "  max-width: 50ex;\n",
              "  color: var(--sklearn-color-text);\n",
              "  box-shadow: 2pt 2pt 4pt #999;\n",
              "  /* unfitted */\n",
              "  background: var(--sklearn-color-unfitted-level-0);\n",
              "  border: .5pt solid var(--sklearn-color-unfitted-level-3);\n",
              "}\n",
              "\n",
              ".sk-estimator-doc-link.fitted span {\n",
              "  /* fitted */\n",
              "  background: var(--sklearn-color-fitted-level-0);\n",
              "  border: var(--sklearn-color-fitted-level-3);\n",
              "}\n",
              "\n",
              ".sk-estimator-doc-link:hover span {\n",
              "  display: block;\n",
              "}\n",
              "\n",
              "/* \"?\"-specific style due to the `<a>` HTML tag */\n",
              "\n",
              "#sk-container-id-1 a.estimator_doc_link {\n",
              "  float: right;\n",
              "  font-size: 1rem;\n",
              "  line-height: 1em;\n",
              "  font-family: monospace;\n",
              "  background-color: var(--sklearn-color-background);\n",
              "  border-radius: 1rem;\n",
              "  height: 1rem;\n",
              "  width: 1rem;\n",
              "  text-decoration: none;\n",
              "  /* unfitted */\n",
              "  color: var(--sklearn-color-unfitted-level-1);\n",
              "  border: var(--sklearn-color-unfitted-level-1) 1pt solid;\n",
              "}\n",
              "\n",
              "#sk-container-id-1 a.estimator_doc_link.fitted {\n",
              "  /* fitted */\n",
              "  border: var(--sklearn-color-fitted-level-1) 1pt solid;\n",
              "  color: var(--sklearn-color-fitted-level-1);\n",
              "}\n",
              "\n",
              "/* On hover */\n",
              "#sk-container-id-1 a.estimator_doc_link:hover {\n",
              "  /* unfitted */\n",
              "  background-color: var(--sklearn-color-unfitted-level-3);\n",
              "  color: var(--sklearn-color-background);\n",
              "  text-decoration: none;\n",
              "}\n",
              "\n",
              "#sk-container-id-1 a.estimator_doc_link.fitted:hover {\n",
              "  /* fitted */\n",
              "  background-color: var(--sklearn-color-fitted-level-3);\n",
              "}\n",
              "</style><div id=\"sk-container-id-1\" class=\"sk-top-container\"><div class=\"sk-text-repr-fallback\"><pre>GaussianMixture(n_components=3, n_init=10)</pre><b>In a Jupyter environment, please rerun this cell to show the HTML representation or trust the notebook. <br />On GitHub, the HTML representation is unable to render, please try loading this page with nbviewer.org.</b></div><div class=\"sk-container\" hidden><div class=\"sk-item\"><div class=\"sk-estimator fitted sk-toggleable\"><input class=\"sk-toggleable__control sk-hidden--visually\" id=\"sk-estimator-id-1\" type=\"checkbox\" checked><label for=\"sk-estimator-id-1\" class=\"sk-toggleable__label fitted sk-toggleable__label-arrow\"><div><div>GaussianMixture</div></div><div><a class=\"sk-estimator-doc-link fitted\" rel=\"noreferrer\" target=\"_blank\" href=\"https://scikit-learn.org/1.6/modules/generated/sklearn.mixture.GaussianMixture.html\">?<span>Documentation for GaussianMixture</span></a><span class=\"sk-estimator-doc-link fitted\">i<span>Fitted</span></span></div></label><div class=\"sk-toggleable__content fitted\"><pre>GaussianMixture(n_components=3, n_init=10)</pre></div> </div></div></div></div>"
            ]
          },
          "metadata": {},
          "execution_count": 2
        }
      ]
    },
    {
      "cell_type": "code",
      "source": [
        "gm.weights_"
      ],
      "metadata": {
        "colab": {
          "base_uri": "https://localhost:8080/"
        },
        "id": "evdxPXYGa91H",
        "outputId": "95e3b7ce-3fd1-474e-f5ee-51ad7b13559c"
      },
      "execution_count": 3,
      "outputs": [
        {
          "output_type": "execute_result",
          "data": {
            "text/plain": [
              "array([0.20187837, 0.19616682, 0.60195481])"
            ]
          },
          "metadata": {},
          "execution_count": 3
        }
      ]
    },
    {
      "cell_type": "code",
      "source": [
        "gm.means_"
      ],
      "metadata": {
        "colab": {
          "base_uri": "https://localhost:8080/"
        },
        "id": "MlLFc_Mia_He",
        "outputId": "a724b04e-2d7d-44b4-abf8-f014fa73a817"
      },
      "execution_count": 4,
      "outputs": [
        {
          "output_type": "execute_result",
          "data": {
            "text/plain": [
              "array([[ 1.75414503, -0.05316734],\n",
              "       [-0.75677874,  0.54762985],\n",
              "       [ 0.49116034,  0.258684  ]])"
            ]
          },
          "metadata": {},
          "execution_count": 4
        }
      ]
    },
    {
      "cell_type": "code",
      "source": [
        "gm.covariances_"
      ],
      "metadata": {
        "colab": {
          "base_uri": "https://localhost:8080/"
        },
        "id": "v3ZhZ2yMbAYH",
        "outputId": "65616cf0-be9d-4462-ccb2-0b19e23607a1"
      },
      "execution_count": 5,
      "outputs": [
        {
          "output_type": "execute_result",
          "data": {
            "text/plain": [
              "array([[[ 0.05215841,  0.06113258],\n",
              "        [ 0.06113258,  0.08641945]],\n",
              "\n",
              "       [[ 0.0468365 ,  0.05778737],\n",
              "        [ 0.05778737,  0.08363187]],\n",
              "\n",
              "       [[ 0.17932273, -0.11164043],\n",
              "        [-0.11164043,  0.2911335 ]]])"
            ]
          },
          "metadata": {},
          "execution_count": 5
        }
      ]
    },
    {
      "cell_type": "code",
      "source": [
        "gm.converged_"
      ],
      "metadata": {
        "colab": {
          "base_uri": "https://localhost:8080/"
        },
        "id": "7bYq9VbFbAV4",
        "outputId": "1026b1db-6392-47d7-c7b0-5d6d35b9d264"
      },
      "execution_count": 6,
      "outputs": [
        {
          "output_type": "execute_result",
          "data": {
            "text/plain": [
              "True"
            ]
          },
          "metadata": {},
          "execution_count": 6
        }
      ]
    },
    {
      "cell_type": "code",
      "source": [
        "gm.n_iter_"
      ],
      "metadata": {
        "colab": {
          "base_uri": "https://localhost:8080/"
        },
        "id": "IaRjt38LbATa",
        "outputId": "f2c3ae78-e631-4366-a89b-8f88dbcc106b"
      },
      "execution_count": 7,
      "outputs": [
        {
          "output_type": "execute_result",
          "data": {
            "text/plain": [
              "18"
            ]
          },
          "metadata": {},
          "execution_count": 7
        }
      ]
    },
    {
      "cell_type": "code",
      "source": [
        "gm.predict(X)"
      ],
      "metadata": {
        "colab": {
          "base_uri": "https://localhost:8080/"
        },
        "id": "f6gs-Tc9bARM",
        "outputId": "d2be46de-8af7-442c-c9cc-8d730f294c95"
      },
      "execution_count": 8,
      "outputs": [
        {
          "output_type": "execute_result",
          "data": {
            "text/plain": [
              "array([2, 0, 1, 2, 2, 2, 0, 2, 2, 2, 2, 0, 1, 2, 1, 1, 2, 2, 2, 2, 2, 2,\n",
              "       2, 0, 1, 1, 2, 2, 2, 2, 0, 0, 2, 2, 2, 2, 2, 0, 2, 2, 2, 0, 2, 2,\n",
              "       0, 2, 2, 2, 2, 0, 1, 2, 1, 1, 2, 0, 2, 1, 0, 0, 2, 1, 2, 2, 0, 2,\n",
              "       1, 2, 2, 0, 0, 1, 2, 0, 0, 2, 2, 2, 2, 2, 1, 1, 2, 2, 2, 2, 2, 1,\n",
              "       1, 2, 2, 2, 0, 2, 2, 0, 2, 2, 2, 2, 0, 2, 0, 1, 2, 0, 1, 2, 1, 1,\n",
              "       2, 2, 2, 2, 2, 2, 2, 2, 1, 2, 1, 2, 2, 2, 1, 2, 2, 2, 0, 0, 1, 1,\n",
              "       2, 0, 2, 2, 0, 2, 1, 2, 2, 2, 1, 1, 2, 2, 1, 2, 2, 2, 2, 2, 2, 2,\n",
              "       1, 2, 1, 2, 2, 2, 2, 0, 1, 2, 2, 2, 1, 1, 2, 0, 2, 2, 0, 1, 1, 2,\n",
              "       1, 0, 0, 0, 2, 0, 2, 0, 1, 2, 2, 2, 2, 1, 0, 2, 2, 2, 2, 2, 2, 2,\n",
              "       2, 2, 0, 0, 1, 2, 0, 2, 2, 2, 0, 0, 2, 1, 1, 2, 2, 0, 1, 0, 2, 2,\n",
              "       1, 0, 2, 1, 1, 1, 1, 2, 1, 2, 2, 2, 2, 2, 0, 0, 0, 2, 2, 1, 2, 2,\n",
              "       2, 2, 0, 1, 2, 2, 0, 1, 2, 2, 2, 2, 2, 2, 2, 0, 2, 2, 2, 2, 1, 2,\n",
              "       1, 2, 1, 0, 2, 2, 0, 1, 1, 2, 2, 1, 1, 2, 1, 0, 2, 1, 1, 1, 1, 0,\n",
              "       2, 2, 2, 2, 2, 1, 0, 2, 2, 1, 2, 2, 1, 2, 1, 2, 2, 0, 1, 2, 1, 2,\n",
              "       2, 2, 2, 2, 1, 2, 1, 1, 2, 2, 2, 2, 1, 0, 2, 2, 0, 1, 0, 2, 2, 2,\n",
              "       2, 2, 0, 2, 2, 2, 2, 2, 2, 1, 1, 2, 0, 2, 1, 0, 2, 1, 2, 2, 2, 2,\n",
              "       1, 2, 2, 0, 0, 2, 0, 1, 2, 0, 0, 2, 0, 1, 2, 0, 2, 2, 1, 0, 2, 1,\n",
              "       1, 2, 1, 2, 2, 2, 2, 2, 2, 2, 2, 1, 0, 2, 2, 0, 1, 0, 2, 1, 0, 0,\n",
              "       1, 1, 2, 2, 2, 1, 2, 0, 2, 1, 1, 0, 2, 2, 2, 2, 2, 2, 2, 1, 2, 2,\n",
              "       2, 0, 2, 2, 2, 2, 2, 2, 2, 2, 2, 2, 2, 2, 0, 2, 0, 1, 2, 2, 2, 2,\n",
              "       1, 1, 2, 1, 2, 2, 0, 1, 2, 0, 2, 2, 1, 0, 2, 2, 2, 2, 2, 2, 2, 2,\n",
              "       0, 1, 0, 2, 0, 2, 0, 0, 2, 2, 1, 2, 0, 2, 1, 1, 1, 2, 2, 2, 1, 2,\n",
              "       1, 0, 2, 2, 1, 2, 0, 2, 2, 0, 2, 2, 1, 0, 2, 2, 2, 2, 0, 2, 0, 2,\n",
              "       0, 2, 1, 0, 1, 2, 2, 2, 1, 2, 1, 2, 2, 2, 2, 1, 2, 0, 1, 0, 1, 2,\n",
              "       2, 2, 0, 2, 1, 1, 2, 1, 2, 2, 2, 2, 2, 2, 0, 1, 0, 0, 2, 2, 2, 2,\n",
              "       2, 2, 2, 2, 2, 2, 2, 2, 0, 1, 1, 1, 1, 2, 1, 0, 0, 2, 0, 1, 0, 2,\n",
              "       0, 2, 2, 2, 0, 2, 1, 2, 1, 2, 2, 2, 2, 2, 1, 0, 0, 2, 2, 2, 2, 1,\n",
              "       2, 2, 2, 2, 2, 2, 0, 2, 2, 2, 0, 2, 2, 2, 1, 2, 2, 1, 2, 2, 2, 1,\n",
              "       2, 2, 2, 2, 2, 2, 2, 1, 2, 2, 1, 2, 2, 2, 2, 2, 0, 0, 2, 0, 2, 0,\n",
              "       0, 1, 1, 2, 2, 2, 1, 2, 2, 2, 2, 2, 0, 2, 2, 0, 2, 2, 2, 2, 1, 2,\n",
              "       1, 2, 1, 1, 1, 2, 2, 0, 1, 0, 2, 2, 0, 2, 2, 2, 2, 0, 0, 2, 2, 2,\n",
              "       0, 2, 2, 0, 0, 1, 2, 1, 2, 0, 1, 2, 2, 0, 2, 0, 2, 2, 2, 1, 0, 2,\n",
              "       2, 2, 0, 0, 0, 2, 0, 2, 2, 2, 2, 2, 2, 2, 2, 2, 1, 0, 0, 1, 0, 2,\n",
              "       2, 2, 2, 1, 2, 1, 0, 1, 2, 2, 2, 0, 2, 0, 0, 2, 2, 2, 2, 2, 2, 2,\n",
              "       2, 2, 2, 0, 1, 1, 2, 2, 0, 0, 0, 1, 2, 1, 2, 2, 2, 2, 0, 2, 2, 2,\n",
              "       1, 2, 0, 2, 0, 2, 2, 2, 1, 2, 2, 1, 2, 2, 2, 2, 2, 1, 0, 0, 2, 2,\n",
              "       2, 2, 2, 1, 1, 0, 2, 0, 0, 2, 2, 2, 0, 2, 1, 2, 1, 2, 2, 0, 0, 2,\n",
              "       2, 2, 0, 2, 2, 2, 2, 2, 2, 2, 2, 0, 2, 2, 0, 2, 1, 2, 0, 0, 2, 0,\n",
              "       0, 2, 1, 0, 0, 1, 2, 2, 0, 1, 2, 2, 1, 2, 0, 1, 2, 1, 0, 2, 0, 1,\n",
              "       2, 2, 2, 0, 2, 2, 2, 2, 2, 0, 2, 1, 2, 0, 2, 2, 2, 2, 2, 1, 2, 2,\n",
              "       2, 0, 2, 2, 1, 0, 0, 0, 2, 0, 1, 0, 2, 2, 2, 2, 1, 0, 2, 2, 0, 2,\n",
              "       2, 2, 2, 1, 0, 0, 2, 2, 0, 2, 2, 2, 2, 0, 2, 1, 2, 0, 1, 2, 0, 1,\n",
              "       2, 2, 2, 0, 2, 2, 0, 2, 2, 2, 1, 2, 0, 2, 0, 0, 2, 2, 2, 2, 2, 0,\n",
              "       2, 2, 2, 2, 2, 2, 2, 2, 2, 2, 2, 0, 2, 0, 2, 1, 1, 0, 2, 2, 2, 2,\n",
              "       0, 2, 1, 2, 1, 1, 1, 0, 1, 2, 2, 1, 2, 2, 2, 2, 0, 2, 2, 2, 2, 1,\n",
              "       0, 1, 1, 2, 2, 2, 2, 1, 1, 2])"
            ]
          },
          "metadata": {},
          "execution_count": 8
        }
      ]
    },
    {
      "cell_type": "code",
      "source": [
        "gm.predict_proba(X)"
      ],
      "metadata": {
        "colab": {
          "base_uri": "https://localhost:8080/"
        },
        "id": "HVNivOprbAOz",
        "outputId": "6fdb8618-50b7-427c-9b03-3e70218c20c2"
      },
      "execution_count": 9,
      "outputs": [
        {
          "output_type": "execute_result",
          "data": {
            "text/plain": [
              "array([[2.12223950e-171, 3.98078051e-003, 9.96019219e-001],\n",
              "       [9.99745695e-001, 1.24975163e-264, 2.54304968e-004],\n",
              "       [1.40912537e-199, 9.99739880e-001, 2.60120488e-004],\n",
              "       ...,\n",
              "       [4.44802238e-205, 9.96854462e-001, 3.14553834e-003],\n",
              "       [1.90606903e-217, 9.98335405e-001, 1.66459494e-003],\n",
              "       [2.76382200e-066, 6.35900250e-052, 1.00000000e+000]])"
            ]
          },
          "metadata": {},
          "execution_count": 9
        }
      ]
    },
    {
      "cell_type": "code",
      "source": [
        "X_new, y_new = gm.sample(6)"
      ],
      "metadata": {
        "id": "pe5MBVbLbAMj"
      },
      "execution_count": 10,
      "outputs": []
    },
    {
      "cell_type": "code",
      "source": [
        "X_new"
      ],
      "metadata": {
        "colab": {
          "base_uri": "https://localhost:8080/"
        },
        "id": "1ZrdkuqCbAKO",
        "outputId": "ee1a30b7-9a0f-4433-9079-6214857ad944"
      },
      "execution_count": 11,
      "outputs": [
        {
          "output_type": "execute_result",
          "data": {
            "text/plain": [
              "array([[ 2.07911417,  0.33501613],\n",
              "       [-0.67792189,  0.88866068],\n",
              "       [-1.08077446,  0.16202833],\n",
              "       [ 1.22226677, -0.56663207],\n",
              "       [ 0.83137939,  0.08885843],\n",
              "       [ 0.53211508, -0.32135437]])"
            ]
          },
          "metadata": {},
          "execution_count": 11
        }
      ]
    },
    {
      "cell_type": "code",
      "source": [
        "y_new"
      ],
      "metadata": {
        "colab": {
          "base_uri": "https://localhost:8080/"
        },
        "id": "c4QJvdKGbAIB",
        "outputId": "f73ead18-1282-4409-ad2c-f8055e99bcc9"
      },
      "execution_count": 12,
      "outputs": [
        {
          "output_type": "execute_result",
          "data": {
            "text/plain": [
              "array([0, 1, 1, 2, 2, 2])"
            ]
          },
          "metadata": {},
          "execution_count": 12
        }
      ]
    },
    {
      "cell_type": "code",
      "source": [
        "gm.score_samples(X)"
      ],
      "metadata": {
        "colab": {
          "base_uri": "https://localhost:8080/"
        },
        "id": "E6l6Dz4YbAFp",
        "outputId": "3a564bfb-21f9-49ca-c4bd-014dbec68926"
      },
      "execution_count": 13,
      "outputs": [
        {
          "output_type": "execute_result",
          "data": {
            "text/plain": [
              "array([-2.11760786e+00, -6.31453414e-01, -1.23007907e+00, -2.28684814e+00,\n",
              "       -1.51501932e+00, -1.72985255e+00, -1.22484921e+00, -1.64730631e+00,\n",
              "       -1.63402132e+00, -1.41704691e+00, -1.62551205e+00, -2.24383584e+00,\n",
              "       -7.81811915e-01, -1.45333897e+00, -9.63695790e-01, -2.05552474e+00,\n",
              "       -1.53434790e+00, -1.78003153e+00, -1.72847119e+00, -1.57333933e+00,\n",
              "       -1.38118363e+00, -1.33203401e+00, -2.00623342e+00, -2.11273976e-02,\n",
              "       -5.56583151e-01, -1.41112934e+00, -1.50002033e+00, -1.93103064e+00,\n",
              "       -1.64994580e+00, -1.64604612e+00, -3.38713767e-01, -6.06040068e-02,\n",
              "       -2.08002465e+00, -1.74934228e+00, -2.13682450e+00, -1.55269010e+00,\n",
              "       -1.86338905e+00, -1.14288084e+00, -1.60937813e+00, -1.48838324e+00,\n",
              "       -1.68821812e+00, -9.20714474e-01, -1.52583766e+00, -1.97921506e+00,\n",
              "       -9.95948392e-01, -1.68819763e+00, -1.59657011e+00, -1.55144710e+00,\n",
              "       -1.79276831e+00, -1.87484007e-01, -5.10846708e-01, -1.57730860e+00,\n",
              "        1.36753248e-01, -1.77219747e+00, -1.75824452e+00, -5.36748701e-01,\n",
              "       -1.52862348e+00, -8.36835806e-03, -8.66982301e-01, -4.72661950e-01,\n",
              "       -1.51293447e+00, -2.26035649e+00, -1.57386025e+00, -2.17386896e+00,\n",
              "       -4.17973378e-01, -2.22084993e+00,  2.30388433e-01, -1.69530384e+00,\n",
              "       -1.81770322e+00, -3.21874282e-01, -1.39223362e+00, -8.24263012e-01,\n",
              "       -1.52885041e+00, -1.28685449e+00, -8.69570712e-01, -1.49558255e+00,\n",
              "       -1.88773130e+00, -1.74493799e+00, -1.53936282e+00, -1.85863088e+00,\n",
              "       -4.65372991e-02, -1.31780369e+00, -1.92150817e+00, -1.73834491e+00,\n",
              "       -1.66446944e+00, -1.52688011e+00, -1.78140110e+00, -1.51453242e+00,\n",
              "       -1.89181626e+00, -1.86918740e+00, -1.96360484e+00, -1.56684133e+00,\n",
              "       -1.43952072e+00, -1.55014936e+00, -1.84715361e+00,  1.38046120e-01,\n",
              "       -1.86489830e+00, -1.90009959e+00, -1.97774119e+00, -1.73918920e+00,\n",
              "        1.06750058e-01, -2.10744445e+00, -8.02802226e-01, -5.00283534e-01,\n",
              "       -1.79783245e+00, -1.73123176e-01, -3.00048434e-01, -1.49374518e+00,\n",
              "       -2.08604265e-01, -1.24008348e+00, -1.54521381e+00, -1.85457362e+00,\n",
              "       -1.59750104e+00, -1.72945509e+00, -2.01273951e+00, -1.98292728e+00,\n",
              "       -1.69221130e+00, -1.61576135e+00, -3.12567492e-01, -1.67894153e+00,\n",
              "       -6.90792523e-01, -1.48635005e+00, -1.44043139e+00, -2.09668657e+00,\n",
              "       -2.53661958e-01, -1.51319945e+00, -1.63968280e+00, -1.57833569e+00,\n",
              "       -8.39777704e-01, -7.78284713e-01, -4.91455851e-02, -1.88541464e-01,\n",
              "       -1.19303987e+00, -3.42170223e-01, -1.62502146e+00, -1.38996452e+00,\n",
              "       -9.81374411e-02, -2.18915251e+00, -1.24029250e+00, -1.62616785e+00,\n",
              "       -1.78695120e+00, -1.62929145e+00, -1.80146984e+00, -2.90528114e-01,\n",
              "       -1.31916552e+00, -1.62413659e+00, -2.85161406e-01, -1.48323398e+00,\n",
              "       -1.71371662e+00, -1.55286868e+00, -1.85170763e+00, -1.49098340e+00,\n",
              "       -1.85957470e+00, -2.07538443e+00, -3.63448445e-01, -1.53906442e+00,\n",
              "       -9.52366892e-02, -1.87916958e+00, -1.63478975e+00, -1.49113220e+00,\n",
              "       -1.55555018e+00, -2.36198881e+00,  1.29921922e-01, -1.64258665e+00,\n",
              "       -1.47908358e+00, -1.50156145e+00, -1.42216501e+00, -1.02521016e+00,\n",
              "       -1.55431454e+00, -8.96157422e-01, -1.52935817e+00, -2.12267617e+00,\n",
              "       -6.19898356e-01, -5.21295399e-01, -5.36131551e-01, -2.12098348e+00,\n",
              "       -9.70111414e-01, -2.30962273e-01, -3.97154240e-01, -4.06385395e-02,\n",
              "       -1.53773373e+00, -4.00463741e-01, -1.79130088e+00, -4.55080053e-01,\n",
              "       -5.51453678e-01, -1.65015088e+00, -1.99939512e+00, -1.54014554e+00,\n",
              "       -1.65206466e+00, -3.40541016e-01, -2.66248988e+00, -1.83910452e+00,\n",
              "       -1.86923544e+00, -2.20007020e+00, -2.21491998e+00, -2.24110954e+00,\n",
              "       -1.51963609e+00, -1.58320785e+00, -1.52925020e+00, -2.00530172e+00,\n",
              "       -6.22146673e-03, -9.19285193e-01,  9.02761594e-02, -1.84329372e+00,\n",
              "       -7.27929204e-01, -1.44051795e+00, -2.22851681e+00, -1.54848905e+00,\n",
              "       -5.20908292e-01, -3.85701011e-01, -1.87384603e+00, -4.08267973e-01,\n",
              "       -2.65927789e+00, -1.96638505e+00, -1.68033151e+00, -2.33376205e-01,\n",
              "       -9.66580872e-01, -1.91733458e+00, -1.31727749e+00, -1.70621818e+00,\n",
              "        6.33084384e-02, -5.83874667e-01, -1.60490521e+00, -1.49157230e+00,\n",
              "       -5.11680803e-03, -5.60063938e-01,  1.16283356e-02, -1.99145905e+00,\n",
              "        8.28331489e-02, -1.84601997e+00, -1.55873988e+00, -1.45911406e+00,\n",
              "       -1.40961757e+00, -1.65387406e+00, -1.55269702e+00, -6.12365166e-01,\n",
              "       -6.53440794e-01, -2.04373654e+00, -1.76566154e+00, -3.96694010e-01,\n",
              "       -1.45473688e+00, -1.72227760e+00, -1.54143141e+00, -1.36799142e+00,\n",
              "        8.07611995e-02, -1.65472378e+00, -1.54627123e+00, -1.99926579e+00,\n",
              "       -1.48739175e+00, -2.30816480e+00, -1.35671083e+00, -1.68607965e+00,\n",
              "       -1.70804650e+00, -1.79663865e+00, -1.74828364e+00, -1.78529531e+00,\n",
              "       -1.43891347e+00, -5.12268885e-01, -1.28054107e+00, -2.10906611e+00,\n",
              "       -1.54841242e+00, -1.33186855e+00,  2.54601447e-01, -1.53715308e+00,\n",
              "       -5.90914124e-01, -1.57200327e+00, -1.06484026e+00, -8.22478731e-01,\n",
              "       -1.70723757e+00, -1.91999578e+00, -7.77462290e-01, -4.56832717e-01,\n",
              "        1.25548744e-01, -1.62316640e+00, -1.79375856e+00, -6.26680364e-01,\n",
              "       -1.13374217e+00, -1.39899577e+00,  1.06254003e-01, -2.84083509e+00,\n",
              "       -1.64484546e+00,  2.25296033e-01, -6.80832173e-01,  2.07869107e-01,\n",
              "       -7.44583959e-01,  3.81169144e-02, -1.60948563e+00, -1.57454096e+00,\n",
              "       -1.43326146e+00, -1.51514270e+00, -1.52540942e+00, -4.31025288e-01,\n",
              "       -2.14026920e+00, -2.24243611e+00, -1.48280896e+00, -1.08962000e+00,\n",
              "       -1.83301359e+00, -2.13317646e+00, -5.62031892e-01, -1.67234483e+00,\n",
              "       -1.86114517e+00, -1.66775948e+00, -1.70935846e+00, -6.09694202e-01,\n",
              "       -2.20806656e+00, -1.59437724e+00, -5.53935561e-02, -2.20689100e+00,\n",
              "       -1.66195786e+00, -1.78160166e+00, -1.68738700e+00, -2.23453888e+00,\n",
              "       -1.83469068e+00, -1.55856565e+00, -1.70596004e-01, -4.58590954e-01,\n",
              "       -1.86919265e+00, -1.71238112e+00, -1.98319774e+00, -1.57155078e+00,\n",
              "        4.28971880e-02,  7.09006312e-02, -1.76769636e+00, -1.59520768e+00,\n",
              "       -5.99797131e-01, -7.62374558e-01, -4.40647086e-01, -1.50301226e+00,\n",
              "       -2.29065167e+00, -1.75344246e+00, -1.25156430e+00, -2.17866946e+00,\n",
              "       -1.51192840e+00, -1.57855096e+00, -1.82438153e+00, -1.58853671e+00,\n",
              "       -1.69307529e+00, -1.66818811e+00, -1.65268324e+00, -2.56265715e+00,\n",
              "       -8.90141933e-01, -1.37175684e+00, -5.06372123e-01, -1.55316188e+00,\n",
              "       -1.20157620e+00,  6.22907300e-02, -1.56889607e+00,  9.59251669e-02,\n",
              "       -1.59045162e+00, -2.15087506e+00, -1.72111193e+00, -1.38987603e+00,\n",
              "       -9.21294288e-01, -1.83753980e+00, -1.41265044e+00, -1.85793058e+00,\n",
              "       -2.77907892e-01, -1.64101321e+00, -9.96015891e-01,  2.57247342e-01,\n",
              "       -1.88805608e+00, -2.72808173e-01, -2.34436473e-01, -1.40661567e+00,\n",
              "       -8.61735033e-01, -4.66271407e+00, -1.52240798e+00, -2.95263104e+00,\n",
              "       -1.62645811e+00, -1.52312354e+00,  2.55380175e-01, -2.49080794e-02,\n",
              "       -1.58909158e+00, -8.16501469e-01,  1.03998030e-01, -1.66619184e+00,\n",
              "       -2.76398244e+00, -1.78121094e+00, -1.56371559e+00, -1.77783560e+00,\n",
              "       -1.59748490e+00, -1.69200513e+00, -2.25293506e+00, -1.16644566e+00,\n",
              "       -1.27150451e+00, -5.92076517e-02, -9.67688873e-01, -1.52253557e+00,\n",
              "       -1.27624435e+00, -1.52333676e+00, -4.11169747e-01, -9.29307182e-02,\n",
              "       -2.11225759e+00, -6.72908694e-01, -1.03473761e+00, -3.27214945e-01,\n",
              "       -5.35110351e-01,  3.71643859e-02, -1.41335300e+00, -1.56441394e+00,\n",
              "       -1.92317304e+00,  1.97515735e-01, -1.49597461e+00, -1.92396559e+00,\n",
              "       -1.27758113e+00,  1.20855352e-01,  6.82391988e-02,  2.79680930e-03,\n",
              "       -1.43822946e+00, -2.12232546e+00, -2.12684908e+00, -1.51081101e+00,\n",
              "       -1.56507151e+00, -1.14222458e+00, -1.62627768e+00, -2.20194911e-01,\n",
              "       -1.69620226e+00, -2.21735202e+00, -1.66978181e+00, -1.37587688e+00,\n",
              "       -1.43912285e+00, -1.59939557e+00, -1.22769232e+00, -1.65523983e+00,\n",
              "       -2.00356640e+00, -2.19759232e+00, -1.59957047e+00, -1.87136750e+00,\n",
              "       -1.62950949e+00, -1.75434304e+00, -1.62612903e+00, -1.67511077e+00,\n",
              "       -1.66486296e-01, -1.34736785e+00, -5.52263619e-01, -2.78316215e-01,\n",
              "       -2.14210049e+00, -1.58988816e+00, -1.54215451e+00, -1.78871811e+00,\n",
              "       -4.42633174e-01, -4.53766801e-01, -2.25584968e+00, -2.87864265e+00,\n",
              "       -1.32580113e+00, -1.66624168e+00, -6.20154064e-01, -1.48391297e-01,\n",
              "       -1.69453505e+00, -1.93094138e+00, -2.31194068e+00, -1.92374981e+00,\n",
              "       -1.33231524e-01, -4.96432460e-01, -1.28114061e+00, -1.56880992e+00,\n",
              "       -1.49388725e+00, -1.51184513e+00, -1.33382776e+00, -1.50256277e+00,\n",
              "       -1.80214982e+00, -1.33213515e+00, -2.51041868e-01, -1.32986698e+00,\n",
              "       -5.97810167e-01, -2.18595675e+00, -1.21734941e+00, -1.36280393e+00,\n",
              "        4.96531859e-03, -1.91881284e-01, -1.62193309e+00, -1.58546915e+00,\n",
              "       -5.78917878e-01, -1.85747597e+00, -7.92025636e-01, -1.77039826e+00,\n",
              "       -5.88188904e-01, -7.43710599e-01,  1.66144415e-01, -1.62912795e+00,\n",
              "       -1.54997863e+00, -1.59421618e+00, -5.57859346e-01, -1.48183307e+00,\n",
              "       -1.17534707e+00, -3.71592549e-01, -1.99382435e+00, -1.49051957e+00,\n",
              "       -4.45789781e-01, -1.71053044e+00, -1.01367429e+00, -1.41012721e+00,\n",
              "       -1.83258442e+00, -1.78655414e-01, -1.73164243e+00, -1.37893816e+00,\n",
              "       -1.11956548e+00, -1.60529698e-01, -1.78152694e+00, -2.23247775e+00,\n",
              "       -1.61027450e+00, -2.17891205e+00, -2.74055048e-01, -1.67234156e+00,\n",
              "       -1.16618503e+00, -1.56015274e+00, -6.88962958e-01, -1.49729984e+00,\n",
              "        8.06468733e-02, -2.56499326e-01, -6.77664365e-01, -1.78384773e+00,\n",
              "       -1.51120995e+00, -1.43961074e+00, -9.49972066e-01, -2.01740961e+00,\n",
              "        2.07990137e-01, -1.88005099e+00, -1.71087124e+00, -1.45332849e+00,\n",
              "       -1.50677269e+00, -6.61823859e-01, -1.64651076e+00,  1.10282637e-02,\n",
              "       -5.66536653e-01, -2.68683758e-01, -5.09643672e-01, -1.67108071e+00,\n",
              "       -1.60606905e+00, -1.89336308e+00, -6.65461787e-01, -1.82052362e+00,\n",
              "       -1.97125890e-01, -1.33743427e+00, -1.55340332e+00, -9.06681747e-01,\n",
              "       -2.10927453e+00, -1.60669218e+00, -1.74369590e+00, -1.95876236e+00,\n",
              "       -1.49500641e+00, -1.55519248e+00, -3.06323414e-01, -5.24002160e-02,\n",
              "       -5.66068813e-01, -2.23229474e-01, -1.73272767e+00, -2.13840174e+00,\n",
              "       -2.21265234e+00, -1.76288296e+00, -1.49003904e+00, -1.43077687e+00,\n",
              "       -2.18536629e+00, -1.56415295e+00, -1.70566723e+00, -1.60137753e+00,\n",
              "       -1.93497977e+00, -1.71367284e+00, -2.74095799e-01, -8.48895477e-03,\n",
              "        9.17111727e-02,  2.42310186e-01, -6.44496646e-01, -1.58090004e+00,\n",
              "       -2.24645685e-01, -4.62012923e-01, -1.57019732e+00, -1.87561441e+00,\n",
              "       -5.91392080e-01, -3.60039888e-01, -3.24024216e-01, -1.68564610e+00,\n",
              "       -1.54060723e-02, -1.87450116e+00, -1.44507886e+00, -1.71181503e+00,\n",
              "       -1.32066473e-01, -1.47549388e+00,  2.61374812e-02, -1.27010331e+00,\n",
              "        1.78191260e-01, -1.69205108e+00, -2.21661847e+00, -1.98161193e+00,\n",
              "       -2.02982794e+00, -1.84705799e+00, -8.18592372e-01, -1.38389730e-01,\n",
              "       -3.93065624e-01, -1.49761193e+00, -1.48776064e+00, -1.51489588e+00,\n",
              "       -1.61669611e+00, -2.55015886e+00, -1.42803122e+00, -1.68676391e+00,\n",
              "       -1.77569825e+00, -1.43219427e+00, -1.53965966e+00, -2.19645406e+00,\n",
              "       -5.03294536e-01, -2.00364642e+00, -2.12228415e+00, -1.23944389e+00,\n",
              "       -9.23428554e-01, -2.23663704e+00, -1.40706767e+00, -1.87587819e+00,\n",
              "        1.81778194e-01, -2.09363338e+00, -1.53654555e+00, -6.35433786e-01,\n",
              "       -1.62499707e+00, -1.62145107e+00, -1.39879423e+00, -3.90330773e-01,\n",
              "       -2.00879187e+00, -2.26024455e+00, -1.34907579e+00, -1.72330453e+00,\n",
              "       -1.68530073e+00, -1.57653869e+00, -1.47645194e+00, -1.74060650e+00,\n",
              "       -1.60712118e+00, -1.31890598e+00,  3.82540043e-03, -1.39460134e+00,\n",
              "       -1.85442029e+00, -1.72436012e+00, -1.81151424e+00, -2.12486655e+00,\n",
              "       -3.24078137e-01, -1.81998033e+00, -1.44316935e+00, -1.63326611e+00,\n",
              "       -1.40593823e+00, -1.17006453e+00, -9.92681802e-01, -1.30434443e+00,\n",
              "       -8.08604774e-01, -1.57338189e+00, -2.24966661e+00, -1.83871346e+00,\n",
              "       -7.23921380e-01, -2.00865171e+00, -1.60720246e+00, -2.27609693e+00,\n",
              "       -1.41394928e+00, -1.43721708e+00, -1.76872716e+00, -1.40268901e+00,\n",
              "       -1.58545864e+00, -1.27000776e+00, -1.89554250e+00, -1.47719574e+00,\n",
              "       -1.38435678e+00, -1.47110113e+00, -1.80932155e-01, -1.82739677e+00,\n",
              "       -8.48948095e-01, -2.23086111e+00, -4.72626628e-01, -1.31889866e+00,\n",
              "       -5.79764946e-01, -1.59691542e+00, -1.96943207e+00, -5.25159501e-01,\n",
              "       -3.08371095e-01, -5.71412231e-01, -1.60974361e+00, -1.48189403e+00,\n",
              "       -1.15449445e+00, -1.32396194e+00, -2.08925073e+00, -2.15817881e+00,\n",
              "       -1.36605563e+00, -3.76518934e-01, -6.32878997e-02, -1.88980101e+00,\n",
              "       -1.53561815e+00, -1.61979153e+00, -1.54144917e+00, -1.77441936e+00,\n",
              "       -1.63363297e+00, -4.52912258e-01, -7.19776624e-01, -5.41916360e-01,\n",
              "       -1.47877391e+00, -1.24956065e-01, -1.42429654e+00, -2.02936909e-01,\n",
              "       -6.10114800e-01, -1.51743149e+00, -1.56378193e+00, -2.46874796e-01,\n",
              "       -2.42194123e+00, -3.77222744e-01, -1.62112320e+00, -1.58569826e+00,\n",
              "       -1.85616778e+00,  2.32098146e-02, -2.70014463e-01, -1.77477650e+00,\n",
              "       -1.36640284e+00, -1.95475092e+00, -1.15327173e-01, -4.49562826e-01,\n",
              "       -1.22443059e-01, -2.00026640e+00, -5.78154915e-01, -1.59543145e+00,\n",
              "       -1.15263326e+00, -1.53756414e+00, -1.90089607e+00, -1.76112509e+00,\n",
              "       -1.75874915e+00, -1.77065231e+00, -1.21612751e+00, -1.71124746e+00,\n",
              "       -7.55419263e-01, -4.22889836e+00, -4.17416580e-01, -1.18281254e+00,\n",
              "       -6.68461366e-01, -1.98132787e+00, -1.69197000e+00, -1.55649172e+00,\n",
              "       -1.84432586e+00, -1.03707299e+00, -1.77538574e+00,  1.65913965e-01,\n",
              "       -7.48453858e-01, -6.72287731e-02, -1.83804751e+00, -1.68234786e+00,\n",
              "       -2.11902221e+00, -2.16126758e+00, -1.42113093e+00, -7.90048279e-01,\n",
              "        1.27123478e-01, -1.34280081e+00, -1.48827453e+00, -1.56805995e+00,\n",
              "       -1.91619864e+00, -1.52041324e+00, -1.43283811e+00, -1.55454315e+00,\n",
              "       -1.51805526e+00, -1.88029131e+00, -1.48397884e+00, -3.19773361e-01,\n",
              "       -2.83221853e-01, -1.66904855e+00, -1.45890630e+00, -1.46848493e+00,\n",
              "       -5.82240681e-01, -8.88077490e-01, -1.03548317e+00, -3.29073965e-02,\n",
              "       -1.53723838e+00, -3.71739922e+00, -1.62115241e+00, -1.47724521e+00,\n",
              "       -1.77433326e+00, -1.36182378e+00, -7.21256304e-01, -1.56658085e+00,\n",
              "       -1.63204757e+00, -2.20836180e+00, -3.20718556e-01, -1.64704434e+00,\n",
              "       -1.73363347e+00, -1.60672993e+00, -5.88214244e-01, -1.57080910e+00,\n",
              "       -1.48421210e+00, -1.58801204e+00, -2.05234163e-01, -1.85969496e+00,\n",
              "       -1.51043125e+00, -1.56280457e-01, -2.03140933e+00, -1.55057251e+00,\n",
              "       -1.62353063e+00, -1.49770113e+00, -1.44884225e+00, -1.52001946e+00,\n",
              "       -5.09944485e-01,  1.01686848e-01, -1.98931531e+00, -1.65068717e+00,\n",
              "       -1.75463414e+00, -1.52947423e+00, -1.95427606e+00, -1.89182813e-01,\n",
              "       -4.16131648e-01, -1.71102794e+00, -1.51473008e+00, -9.22621608e-02,\n",
              "       -5.21412602e-01, -1.41068373e+00, -1.44538320e+00, -1.67982642e+00,\n",
              "        4.03968895e-02, -1.74572981e+00, -1.12497887e+00, -1.61421312e+00,\n",
              "       -2.14929492e-01, -1.81115925e+00, -1.46499056e+00, -9.55376374e-01,\n",
              "       -8.07144740e-01, -1.57823016e+00, -1.33455312e+00, -1.50443086e+00,\n",
              "       -9.41027605e-01, -1.38208867e+00, -1.79925271e+00, -1.77011143e+00,\n",
              "       -1.62742398e+00, -1.65584635e+00, -1.92672932e+00, -1.67632199e+00,\n",
              "       -1.77739315e+00, -5.54579568e-02, -1.11814039e+00, -2.23462219e+00,\n",
              "       -1.08654860e+00, -2.19650533e+00, -3.65186085e-01, -1.58213276e+00,\n",
              "       -6.11909137e-01, -8.00291434e-01, -1.84649206e+00, -9.75555567e-01,\n",
              "       -3.81189886e-01, -1.64801105e+00, -3.32473907e-01, -5.68731010e-01,\n",
              "       -2.86733474e-01, -3.81597334e-02, -1.80460731e+00, -1.59263436e+00,\n",
              "       -2.41649269e+00,  1.32753698e-02, -2.10039967e+00, -1.45307848e+00,\n",
              "       -3.40032359e+00, -1.76390935e+00, -2.44091815e-02, -9.14048387e-01,\n",
              "       -1.50174068e+00,  2.40402091e-01, -3.10880644e+00, -1.62743010e+00,\n",
              "       -2.55105794e-01, -3.50376035e-01, -2.01967702e+00, -1.53009518e+00,\n",
              "       -2.21738906e+00, -1.36657631e+00, -1.36535806e+00, -1.96296563e+00,\n",
              "       -1.99729128e+00, -1.63896982e+00, -1.62166764e+00, -2.54149186e+00,\n",
              "       -1.90545463e+00, -1.61598201e+00, -1.57422780e+00, -9.36703290e-01,\n",
              "       -1.43310235e+00, -1.97940512e+00, -1.49415059e+00, -1.57941377e+00,\n",
              "       -1.61261835e+00, -6.04877742e-01, -1.42821127e+00, -2.15147248e+00,\n",
              "       -1.44664030e+00, -3.06551949e+00, -2.16337704e+00, -1.22780699e+00,\n",
              "       -8.64045277e-01, -6.69306625e-01, -1.26454197e-01, -3.96456108e-01,\n",
              "       -1.88299980e+00, -8.73266160e-01, -5.22314164e-01, -3.64389109e-01,\n",
              "       -2.03324579e+00, -1.64279159e+00, -2.24658727e+00, -1.38024165e+00,\n",
              "       -2.85305575e-01, -9.37071589e-01, -1.58334052e+00, -1.57188266e+00,\n",
              "       -1.28319011e-01, -1.73879489e+00, -1.82449213e+00, -1.89076916e+00,\n",
              "       -1.62423265e+00, -6.35427752e-02, -2.15069121e-01, -1.95893180e+00,\n",
              "       -2.19325706e+00, -1.47512157e+00, -2.00937319e+00, -1.76911006e+00,\n",
              "       -1.86654992e+00, -2.17562038e+00, -1.57788419e+00, -1.08078717e-01,\n",
              "       -1.54665958e+00, -8.73193721e-01, -1.49023346e+00, -4.85957960e-01,\n",
              "        7.95188188e-02, -1.49881401e+00, -5.02333884e-01, -2.19994903e-01,\n",
              "       -1.73549583e+00, -2.21878989e+00, -1.51521204e+00, -1.17712740e+00,\n",
              "       -1.90257575e+00, -1.62346624e+00, -3.19231460e-01, -1.38422080e+00,\n",
              "       -1.68640175e+00, -1.74119041e+00, -8.76110676e-01, -1.71635688e+00,\n",
              "       -1.52024722e-01, -1.46570186e+00, -1.48834996e+00, -5.65632101e-01,\n",
              "       -1.32634618e+00, -1.56674169e+00, -1.74113001e+00, -1.59045916e+00,\n",
              "       -1.85724245e+00, -3.75975091e-01, -2.21533838e+00, -1.91006138e+00,\n",
              "       -1.83882618e+00, -1.61636646e+00, -1.99271062e+00, -2.04176278e+00,\n",
              "       -1.28016150e+00, -1.28877961e+00, -1.46432559e+00, -2.16206442e+00,\n",
              "       -2.07567787e+00, -5.13023216e-01, -1.61133046e+00, -4.00334258e-01,\n",
              "       -1.54815964e+00, -3.82983637e-01,  1.73364411e-01, -5.64746702e-01,\n",
              "       -2.02707574e+00, -2.25122605e+00, -1.72752990e+00, -1.66541595e+00,\n",
              "       -7.28165479e-02, -1.39748527e+00, -3.65447010e-01, -1.55271747e+00,\n",
              "       -8.99165385e-02, -6.95368072e-01,  5.16816240e-02, -6.73462090e-01,\n",
              "       -3.69301180e-02, -1.66777273e+00, -1.59617680e+00,  2.27664780e-01,\n",
              "       -1.35650404e+00, -2.18535345e+00, -1.62768148e+00, -1.54632759e+00,\n",
              "       -9.96884560e-01, -1.45910754e+00, -1.56456977e+00, -1.30478869e+00,\n",
              "       -1.95221547e+00, -1.06129501e+00,  2.59835235e-02, -3.73777438e+00,\n",
              "       -5.83138103e-01, -1.44336780e+00, -1.98682434e+00, -1.57062015e+00,\n",
              "       -1.74070274e+00,  1.08597409e-01,  1.29204326e-01, -1.69538917e+00])"
            ]
          },
          "metadata": {},
          "execution_count": 13
        }
      ]
    },
    {
      "cell_type": "code",
      "source": [
        "import numpy as np\n",
        "densities = gm.score_samples(X)\n",
        "density_threshold = np.percentile(densities,4)\n",
        "anomalies = X[densities < density_threshold]"
      ],
      "metadata": {
        "id": "oZPNczuEbNFJ"
      },
      "execution_count": 14,
      "outputs": []
    },
    {
      "cell_type": "code",
      "source": [
        "gm.bic(X)"
      ],
      "metadata": {
        "colab": {
          "base_uri": "https://localhost:8080/"
        },
        "id": "BhNNQDtbbNC0",
        "outputId": "a47c3e0b-2294-41d2-f2f2-772249bd5872"
      },
      "execution_count": 15,
      "outputs": [
        {
          "output_type": "execute_result",
          "data": {
            "text/plain": [
              "np.float64(2710.8937796892365)"
            ]
          },
          "metadata": {},
          "execution_count": 15
        }
      ]
    },
    {
      "cell_type": "code",
      "source": [
        "gm.aic(X)"
      ],
      "metadata": {
        "colab": {
          "base_uri": "https://localhost:8080/"
        },
        "id": "i3N-c6wSbNAk",
        "outputId": "33be7b15-3780-44b9-d566-c30ba973f316"
      },
      "execution_count": 16,
      "outputs": [
        {
          "output_type": "execute_result",
          "data": {
            "text/plain": [
              "np.float64(2627.46193994654)"
            ]
          },
          "metadata": {},
          "execution_count": 16
        }
      ]
    },
    {
      "cell_type": "code",
      "source": [
        "from sklearn.mixture import BayesianGaussianMixture\n",
        "bgm = BayesianGaussianMixture(n_components=10, n_init=10)\n",
        "bgm.fit(X)\n",
        "np.round(bgm.weights_,2)"
      ],
      "metadata": {
        "colab": {
          "base_uri": "https://localhost:8080/"
        },
        "id": "yWdRKElkbM-W",
        "outputId": "5563aaa3-8aef-4ba6-b170-a29380d002c3"
      },
      "execution_count": 17,
      "outputs": [
        {
          "output_type": "stream",
          "name": "stderr",
          "text": [
            "/usr/local/lib/python3.12/dist-packages/sklearn/mixture/_base.py:269: ConvergenceWarning: Best performing initialization did not converge. Try different init parameters, or increase max_iter, tol, or check for degenerate data.\n",
            "  warnings.warn(\n"
          ]
        },
        {
          "output_type": "execute_result",
          "data": {
            "text/plain": [
              "array([0.13, 0.14, 0.1 , 0.12, 0.16, 0.11, 0.1 , 0.13, 0.  , 0.  ])"
            ]
          },
          "metadata": {},
          "execution_count": 17
        }
      ]
    }
  ]
}