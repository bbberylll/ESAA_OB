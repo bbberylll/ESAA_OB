{
  "nbformat": 4,
  "nbformat_minor": 0,
  "metadata": {
    "colab": {
      "provenance": [],
      "include_colab_link": true
    },
    "kernelspec": {
      "name": "python3",
      "display_name": "Python 3"
    },
    "language_info": {
      "name": "python"
    }
  },
  "cells": [
    {
      "cell_type": "markdown",
      "metadata": {
        "id": "view-in-github",
        "colab_type": "text"
      },
      "source": [
        "<a href=\"https://colab.research.google.com/github/bbberylll/ESAA_OB/blob/main/09_05_%EC%84%B8%EC%85%98_%EB%B6%84%EB%A5%98_%EC%97%B0%EC%8A%B5%EB%AC%B8%EC%A0%9C.ipynb\" target=\"_parent\"><img src=\"https://colab.research.google.com/assets/colab-badge.svg\" alt=\"Open In Colab\"/></a>"
      ]
    },
    {
      "cell_type": "markdown",
      "source": [
        "## **분류 연습 문제**\n",
        "___\n",
        "출처 : 핸즈온 머신러닝 Ch03 분류 연습문제 1, 2번"
      ],
      "metadata": {
        "id": "zCu72vDHGMHo"
      }
    },
    {
      "cell_type": "code",
      "source": [
        "# import data\n",
        "from sklearn.datasets import fetch_openml\n",
        "mnist = fetch_openml('mnist_784', version = 1, as_frame = False)"
      ],
      "metadata": {
        "id": "tBMD6RMQJcnZ"
      },
      "execution_count": 1,
      "outputs": []
    },
    {
      "cell_type": "code",
      "source": [
        "X, y = mnist[\"data\"], mnist[\"target\"]"
      ],
      "metadata": {
        "id": "0acMMz8YKS7v"
      },
      "execution_count": 2,
      "outputs": []
    },
    {
      "cell_type": "code",
      "source": [
        "X_train, X_test, y_train, y_test = X[:60000], X[60000:], y[:60000], y[60000:]"
      ],
      "metadata": {
        "id": "xa_ZxrPyRhv-"
      },
      "execution_count": 3,
      "outputs": []
    },
    {
      "cell_type": "markdown",
      "source": [
        "### **1. MNIST 데이터셋으로 분류기를 만들어 테스트 세트에서 97% 정확도를 달성해보세요.**\n",
        "___\n",
        "\n",
        "1. `KNeghtborsClassifier`를 사용하는 것을 추천합니다.\n",
        "2. `weights`와 `n_neighbors` 하이퍼 파라미터로 그리드 탐색을 시도하여, 좋은 하이퍼 파라미터 값을 찾아보세요."
      ],
      "metadata": {
        "id": "j3g-_Dq9GiuT"
      }
    },
    {
      "cell_type": "code",
      "execution_count": 4,
      "metadata": {
        "id": "188lZyYEGJZ7"
      },
      "outputs": [],
      "source": [
        "# import package\n",
        "from sklearn.neighbors import KNeighborsClassifier\n",
        "from sklearn.model_selection import GridSearchCV\n",
        "from sklearn.metrics import accuracy_score"
      ]
    },
    {
      "cell_type": "code",
      "source": [
        "# Try GridSearch to optimize hyperparameter\n",
        "\n",
        "kk = KNeighborsClassifier()\n",
        "\n",
        "parameters = {'weights':['distance', 'uniform'], 'n_neighbors':[3,4,5]}\n",
        "\n",
        "grid = GridSearchCV(kk, param_grid=parameters, cv = 3, scoring='accuracy', n_jobs=-1)\n",
        "grid.fit(X_train, y_train)"
      ],
      "metadata": {
        "id": "lXF4M2MdIpKa"
      },
      "execution_count": null,
      "outputs": []
    },
    {
      "cell_type": "code",
      "source": [
        "# best hyperparameter\n",
        "grid.best_params_"
      ],
      "metadata": {
        "id": "J0NiljKhJJlj"
      },
      "execution_count": null,
      "outputs": []
    },
    {
      "cell_type": "code",
      "source": [
        "# best score\n",
        "grid.best_score_"
      ],
      "metadata": {
        "id": "DPLNro_xJTrx"
      },
      "execution_count": null,
      "outputs": []
    },
    {
      "cell_type": "code",
      "source": [
        "# model test\n",
        "y_pred = grid.predict(X_test)\n",
        "print(\"정확도 : \", accuracy_score(y_test, y_pred))"
      ],
      "metadata": {
        "id": "CVY_c-DMJX70"
      },
      "execution_count": null,
      "outputs": []
    },
    {
      "cell_type": "markdown",
      "source": [
        "### **2. 다음 단계를 따라 인위적으로 훈련 세트를 늘리는 데이터 증식 또는 훈련 세트 확장 기법을 연습해봅시다.**\n",
        "___"
      ],
      "metadata": {
        "id": "-pDjW5XcHPOt"
      }
    },
    {
      "cell_type": "markdown",
      "source": [
        "#### **STEP 1. MNIST 이미지를 (왼, 오른, 위, 아래) 어느 방향으로든 한 픽셀 이동시킬 수 있는 함수를 만들어 보세요.**"
      ],
      "metadata": {
        "id": "_xhEB_KtH47q"
      }
    },
    {
      "cell_type": "markdown",
      "source": [
        "## Shift 함수\n",
        "\n",
        "데이터 프레임의 행을 위, 아래로 옮기고 싶을 때 사용하면 유용함\n",
        "근데 이건 시계열에서 쓰이는거 같은디...?  흠\n",
        "\n"
      ],
      "metadata": {
        "id": "hTcphfFoQ8L1"
      }
    },
    {
      "cell_type": "code",
      "source": [
        "X_train, X_test, y_train, y_test = X[:60000], X[60000:], y[:60000], y[60000:]"
      ],
      "metadata": {
        "id": "sHuoCdOyQL1g"
      },
      "execution_count": null,
      "outputs": []
    },
    {
      "cell_type": "code",
      "source": [
        "from scipy.ndimage import shift\n",
        "## 이미지 증강에 쓰이는 함수 -- 다차원 배열을 주어진 양만큼 공간적으로 이동시킴\n",
        "\n",
        "def shift_image(image, dx, dy):\n",
        "    image=image.reshape((28, 28))\n",
        "    shifted_image=shift(image, [dy, dx], cval=0, mode=\"constant\")\n",
        "    return shifted_image.reshape([-1])\n"
      ],
      "metadata": {
        "id": "DKw9INbrJgpv"
      },
      "execution_count": null,
      "outputs": []
    },
    {
      "cell_type": "markdown",
      "source": [
        "####  **STEP 2. 앞에서 만든 함수를 이용하여, 훈련 세트에 있는 각 이미지에 대해 네 개의 이동된 복사본(방향마다 한 개씩)을 만들어 훈련 세트에 추가하세요**"
      ],
      "metadata": {
        "id": "AHgSqi-zIBCd"
      }
    },
    {
      "cell_type": "code",
      "source": [
        "image=X_train[1000]\n",
        "shifted_image_down=shift_image(image, 0, 5)\n",
        "shifted_image_up=shift_image(image, 0, -1)\n",
        "shifted_image_left=shift_image(image, -5, 0)\n",
        "shifted_image_right=shift_image(image, 1, 0)"
      ],
      "metadata": {
        "id": "SsBT_d0MIH-V"
      },
      "execution_count": null,
      "outputs": []
    },
    {
      "cell_type": "code",
      "source": [
        "import matplotlib.pyplot as plt\n",
        "\n",
        "plt.figure(figsize=(12,3))\n",
        "\n",
        "plt.subplot(1,5,1)\n",
        "plt.title(\"Original\", fontsize=14)\n",
        "plt.imshow(image.reshape(28, 28), interpolation=\"nearest\", cmap=\"Greys\")\n",
        "\n",
        "plt.subplot(1,5,2)\n",
        "plt.title(\"Shifted down\", fontsize=14)\n",
        "plt.imshow(shifted_image_down.reshape(28, 28), interpolation=\"nearest\", cmap=\"Greys\")\n",
        "\n",
        "plt.subplot(1,5,3)\n",
        "plt.title(\"Shifted up\", fontsize=14)\n",
        "plt.imshow(shifted_image_up.reshape(28, 28), interpolation=\"nearest\", cmap=\"Greys\")\n",
        "\n",
        "plt.subplot(1,5,4)\n",
        "plt.title(\"Shifted left\", fontsize=14)\n",
        "plt.imshow(shifted_image_left.reshape(28, 28), interpolation=\"nearest\", cmap=\"Greys\")\n",
        "\n",
        "plt.subplot(1,5,5)\n",
        "plt.title(\"Shifted right\", fontsize=14)\n",
        "plt.imshow(shifted_image_right.reshape(28, 28), interpolation=\"nearest\", cmap=\"Greys\")\n",
        "\n",
        "plt.show()"
      ],
      "metadata": {
        "id": "uYKEroaJ9NkO"
      },
      "execution_count": null,
      "outputs": []
    },
    {
      "cell_type": "code",
      "source": [
        "\n",
        "X_train_augmented=[image for image in X_train]\n",
        "y_train_augmented=[label for label in y_train]\n",
        "\n",
        "for dx, dy in ((1, 0), (-1, 0), (0, 1), (0, -1)):\n",
        "    for image, label in zip(X_train, y_train):\n",
        "        X_train_augmented.append(shift_image(image, dx, dy))\n",
        "        y_train_augmented.append(label)\n",
        "\n",
        "X_train_augmented=np.array(X_train_augmented)\n",
        "y_train_augmented=np.array(y_train_augmented)\n",
        "\n",
        "\n",
        "shuffle_idx = np.random.permutation(len(X_train_augmented))\n",
        "X_train_augmented = X_train_augmented[shuffle_idx]\n",
        "y_train_augmented = y_train_augmented[shuffle_idx]"
      ],
      "metadata": {
        "id": "1C4WFrH69RPw"
      },
      "execution_count": null,
      "outputs": []
    },
    {
      "cell_type": "markdown",
      "source": [
        "## 개선 지점\n",
        "\n",
        "1. 라벨 증식은 y 복사로 진행해야 한다고 함.\n",
        "x에서 적용한 이동 함수를 적용하는 것이 아닌 이미지만 이동하고 라벨은 그대로 복제해야 한다고 한다.\n",
        "\n",
        "2. shift는 3차 보간이라 숫자 이미지가 블러될 수 있다고 한다. 정확한 의미는 추가적인 공부를 통해 확인해야 할 듯.\n",
        "따라서 order=0 + mode='constant', cva=l=0 으로 지정하면 픽셀이 무너지지 않는다고 한다\n",
        "\n",
        "3. 배치 이동은 패딩 + 슬라이싱으로 빠르게 진행할 수 있다고 하낟.\n",
        "shift는 루프를 호출할 경우 느려질 수 있다고 함\n",
        "\n",
        "4. KNN은 거리 기반이기 때문에 스케일의 영향이 크다고 한다. 따라서 정규화를 권장함\n",
        "\n",
        "5. 증식 후 셔플하는 것은 필수라고 한다."
      ],
      "metadata": {
        "id": "sJ7WIJmm6UWB"
      }
    },
    {
      "cell_type": "markdown",
      "source": [
        "####  **STEP 3. 위에서 확장한 데이터셋을 이용하여, 1번 문제에서 찾은 최적 모델을 훈련시키고, 테스트 세트에서 정확도를 측정해보세요**"
      ],
      "metadata": {
        "id": "zWozt0n2IJZL"
      }
    },
    {
      "cell_type": "code",
      "source": [
        "knn_clf=KNeighborsClassifier(**grid.best_params_)"
      ],
      "metadata": {
        "id": "i7GCrJVG9S-Y"
      },
      "execution_count": null,
      "outputs": []
    },
    {
      "cell_type": "code",
      "source": [
        "knn_clf.fit(X_train_augmented, y_train_augmented)"
      ],
      "metadata": {
        "id": "Yo4H-hTRIW7-"
      },
      "execution_count": null,
      "outputs": []
    },
    {
      "cell_type": "code",
      "source": [
        "y_pred=knn_clf.predict(X_test)\n",
        "accuracy_score(y_test, y_pred)"
      ],
      "metadata": {
        "id": "fVdwwmSYKDmF"
      },
      "execution_count": null,
      "outputs": []
    },
    {
      "cell_type": "code",
      "source": [],
      "metadata": {
        "id": "i6153zKv9kN_"
      },
      "execution_count": null,
      "outputs": []
    }
  ]
}