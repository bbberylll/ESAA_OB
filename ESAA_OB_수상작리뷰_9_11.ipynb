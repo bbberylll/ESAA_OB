{
  "nbformat": 4,
  "nbformat_minor": 0,
  "metadata": {
    "colab": {
      "provenance": [],
      "authorship_tag": "ABX9TyMQwwDWk1pXJe3oaKVoN/CJ",
      "include_colab_link": true
    },
    "kernelspec": {
      "name": "python3",
      "display_name": "Python 3"
    },
    "language_info": {
      "name": "python"
    }
  },
  "cells": [
    {
      "cell_type": "markdown",
      "metadata": {
        "id": "view-in-github",
        "colab_type": "text"
      },
      "source": [
        "<a href=\"https://colab.research.google.com/github/bbberylll/ESAA_OB/blob/main/ESAA_OB_%EC%88%98%EC%83%81%EC%9E%91%EB%A6%AC%EB%B7%B0_9_11.ipynb\" target=\"_parent\"><img src=\"https://colab.research.google.com/assets/colab-badge.svg\" alt=\"Open In Colab\"/></a>"
      ]
    },
    {
      "cell_type": "markdown",
      "source": [
        "## Web Traffic Time Series Forecasting (Kaggle)\n",
        "\n",
        "### 데이터셋\n",
        "1. train_1.csv: 약 145k 페이지*약 550일치의 일일 조회수 (wide-format)\n",
        "2. 각 column = 날짜, 각 row = 위키 페이지\n",
        "3. 결측치 및 이상치(突발적 트래픽 급등)가 많음\n",
        "\n",
        "### 평가지표\n",
        ": SMAPE (Symmetric Mean Absolute Percentage Error)\n",
        "\n",
        "### 데이터 전처리\n",
        "  1. 결측치: 0 채움, 선형 보간, 이동 평균 대체 등\n",
        "  2. 이상치: winsorization(상위 퍼센트 컷), 로그 변환\n",
        "  3. 스케일링: log1p 변환으로 분포 안정화\n",
        "\n",
        "### feature enginerring\n",
        "  1. 주간/월간 계절성, 요일 효과\n",
        "  2. holiday flag, 이동 평균/rolling stats\n",
        "  3. 최근 구간을 더 크게 가중치 부여 (가까운 데이터가 미래에 더 중요)\n",
        "\n",
        "### 모델링\n",
        "  1. 단일 모델보다 앙상블이 핵심\n",
        "  2. LGBM/XGBoost 같은 boosting + Prophet/ARIMA/Holt-Winters 같은 전통 시계열 모델 + 단순 평균/naive 모델 혼합\n",
        "  3. 일부 팀은 CNN/RNN 기반 딥러닝을 시도 → boosting + 전통 모델이 더 안정적\n",
        "\n",
        "\n",
        "## 배울 점\n",
        "* 결측·이상치 처리 능력: 대규모 시계열에서 데이터 클리닝이 절대적이라는 걸 알 수 있었음\n",
        "* 단순 모델의 힘: Naive, 이동평균 같은 간단 모델도 baseline 이상으로 강력함\n",
        "* 앙상블 지향: boosting + 전통 시계열 + naive 모델 혼합이 성능이 더 뛰어남\n",
        "* 딥러닝 활용: 단독 성능은 미약했지만 앙상블 요소로 가치는 있음\n",
        "\n"
      ],
      "metadata": {
        "id": "pD1ZP4Q5LuAu"
      }
    },
    {
      "cell_type": "code",
      "execution_count": null,
      "metadata": {
        "id": "6fG-I1ZILsEo"
      },
      "outputs": [],
      "source": []
    }
  ]
}